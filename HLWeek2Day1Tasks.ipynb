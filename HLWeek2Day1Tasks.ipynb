{
 "cells": [
  {
   "cell_type": "code",
   "execution_count": 1,
   "metadata": {},
   "outputs": [],
   "source": [
    "import numpy as np\n",
    "\n"
   ]
  },
  {
   "cell_type": "code",
   "execution_count": 2,
   "metadata": {},
   "outputs": [
    {
     "name": "stdout",
     "output_type": "stream",
     "text": [
      "[0 1 2 3 4 5 6 7 8 9]\n",
      "[0 1 2 3 4 5 6 7 8 9]\n"
     ]
    }
   ],
   "source": [
    "#Task1\n",
    "\n",
    "#Option1\n",
    "\n",
    "array1d = np.array ([0, 1, 2, 3, 4, 5, 6, 7, 8, 9])\n",
    "print (array1d)\n",
    "\n",
    "#Option2\n",
    "\n",
    "array1D = np.arange(10)\n",
    "print (array1D)"
   ]
  },
  {
   "cell_type": "code",
   "execution_count": 3,
   "metadata": {},
   "outputs": [
    {
     "name": "stdout",
     "output_type": "stream",
     "text": [
      "[[ True  True  True]\n",
      " [ True  True  True]\n",
      " [ True  True  True]]\n",
      "[[ True  True  True]\n",
      " [ True  True  True]\n",
      " [ True  True  True]]\n",
      "[[ True  True  True]\n",
      " [ True  True  True]\n",
      " [ True  True  True]]\n"
     ]
    }
   ],
   "source": [
    "#Task2\n",
    "#Option 1\n",
    "\n",
    "my_array = np.array ([1,3,5,7,9,11,13,15,17])\n",
    "bool_array = my_array > 0\n",
    "bool_array = bool_array.reshape(3,3)\n",
    "print (bool_array)\n",
    "\n",
    "#Option2\n",
    "my_array = np.array ([1,3,5,7,9,11,13,15,17])\n",
    "bool_array = my_array == my_array\n",
    "bool_array = bool_array.reshape(3,3)\n",
    "print (bool_array)\n",
    "\n",
    "#Option3\n",
    "my_array = np.array ([1,3,5,7,9,11,13,15,17])\n",
    "bool_array = my_array %2 != 0\n",
    "bool_array = bool_array.reshape(3,3)\n",
    "print (bool_array)\n"
   ]
  },
  {
   "cell_type": "code",
   "execution_count": 4,
   "metadata": {},
   "outputs": [
    {
     "name": "stdout",
     "output_type": "stream",
     "text": [
      "1\n",
      "3\n",
      "5\n",
      "7\n",
      "9\n",
      "[1 3 5 7 9]\n"
     ]
    }
   ],
   "source": [
    "#Task3\n",
    "\n",
    "#Option1\n",
    "my_array = np.array ([1, 2, 3, 4, 5, 6, 7, 8, 9, 10])\n",
    "for n in my_array:\n",
    "    if n %2 !=0:\n",
    "        print (n)\n",
    "\n",
    "#Option2\n",
    "my_array = np.array ([1, 2, 3, 4, 5, 6, 7, 8, 9, 10])\n",
    "print (my_array[0::2])\n",
    "\n",
    "\n",
    "   "
   ]
  },
  {
   "cell_type": "code",
   "execution_count": 5,
   "metadata": {},
   "outputs": [
    {
     "name": "stdout",
     "output_type": "stream",
     "text": [
      "[-1  2 -1  4 -1  6 -1  8 -1 10]\n",
      "[-1  2 -1  4 -1  6 -1  8 -1 10]\n"
     ]
    }
   ],
   "source": [
    "#Task4\n",
    "\n",
    "#Option1\n",
    "my_array = np.array ([1, 2, 3, 4, 5, 6, 7, 8, 9, 10])\n",
    "my_array[my_array%2 !=0] = -1\n",
    "print(my_array)\n",
    "\n",
    "#Option2\n",
    "my_array = np.array ([1, 2, 3, 4, 5, 6, 7, 8, 9, 10])\n",
    "print (np.where(my_array % 2 != 0, -1, my_array))\n",
    "\n"
   ]
  },
  {
   "cell_type": "code",
   "execution_count": 6,
   "metadata": {},
   "outputs": [
    {
     "name": "stdout",
     "output_type": "stream",
     "text": [
      "[0 1 2 3 4 5 6 7 8 9]\n",
      "[[0 1]\n",
      " [2 3]\n",
      " [4 5]\n",
      " [6 7]\n",
      " [8 9]]\n"
     ]
    }
   ],
   "source": [
    "#Task5\n",
    "\n",
    "my_array = np.arange(10)\n",
    "print (my_array)\n",
    "\n",
    "new_array = my_array.reshape (5,2)\n",
    "print (new_array)"
   ]
  },
  {
   "cell_type": "code",
   "execution_count": 7,
   "metadata": {},
   "outputs": [
    {
     "name": "stdout",
     "output_type": "stream",
     "text": [
      "[[4410 4922 3782]\n",
      " [7328 9988 5664]\n",
      " [1345 1783  999]]\n",
      "[[1198 3730]\n",
      " [2276 7130]]\n",
      "40221\n"
     ]
    }
   ],
   "source": [
    "#Task6\n",
    "\n",
    "a = np.array([23,44,56,78,80,54, 12, 15, 10]).reshape(3,3)\n",
    "b = np.array([10,34,22,67,89,21, 22, 4, 42]).reshape(3,3)\n",
    "c= np.dot(a,b)\n",
    "print (c)\n",
    "\n",
    "a = np.array([23,44,56,78]).reshape(2,2)\n",
    "b = np.array([10,34,22,67]).reshape(2,2)\n",
    "c= np.dot(a,b)\n",
    "print (c)\n",
    "# np.dot only works when number of columns and rows are equal\n",
    "\n",
    "a = np.array([23,44,56,78,80,54, 12, 15, 10]).reshape(3,3)\n",
    "b = np.array([10,34,22,67,89,21, 22, 4, 42]).reshape(3,3)\n",
    "c= np.dot(a,b)\n",
    "sum = np.sum (c)\n",
    "print (sum)\n"
   ]
  },
  {
   "cell_type": "code",
   "execution_count": 8,
   "metadata": {},
   "outputs": [
    {
     "name": "stdout",
     "output_type": "stream",
     "text": [
      "[603 648 693]\n",
      "[ 270  648 1026]\n"
     ]
    }
   ],
   "source": [
    "a = np.arange(1,10).reshape(3,3)\n",
    "b = np.arange(10,19).reshape(3,3)\n",
    "c =np.dot(a,b)\n",
    "e=np.sum(c,axis = 0)\n",
    "print (e)\n",
    "\n",
    "a = np.arange(1,10).reshape(3,3)\n",
    "b = np.arange(10,19).reshape(3,3)\n",
    "c =np.dot(a,b)\n",
    "e=np.sum(c,axis = 1)\n",
    "print (e)\n",
    "\n",
    "#Why my results are the other way round than in Power Point presentation?"
   ]
  },
  {
   "cell_type": "code",
   "execution_count": 9,
   "metadata": {},
   "outputs": [
    {
     "name": "stdout",
     "output_type": "stream",
     "text": [
      "[1 1 1 2 2 2 3 3 3 1 2 3 1 2 3 1 2 3]\n"
     ]
    }
   ],
   "source": [
    "#Extension\n",
    "\n",
    "my_array = np.array([1,2,3,4,5,6,7,8,9,10,4,3,4,5,6,7,8,9])\n",
    "my_array [0:3] = 1\n",
    "my_array[3:6]=2\n",
    "my_array[6:9]=3\n",
    "my_array[9:18]=1,2,3,1,2,3,1,2,3\n",
    "#my_array[12:15]\n",
    "print (my_array)\n",
    "\n"
   ]
  },
  {
   "cell_type": "code",
   "execution_count": 10,
   "metadata": {},
   "outputs": [
    {
     "name": "stdout",
     "output_type": "stream",
     "text": [
      "[1 2 3 4 5]\n",
      "[6, 7, 8, 9]\n"
     ]
    }
   ],
   "source": [
    "a = np.array([1,2,3,4,5])\n",
    "b = np.array([4,5,6,7,8,9])\n",
    "if n in a and b ==4 or 5:\n",
    "    new_b = [6,7,8,9]\n",
    "    #print (new_b)\n",
    "else:\n",
    "    print ([4,5,6,7,8,9])\n",
    "\n",
    "print (a)\n",
    "print (new_b)\n",
    "\n"
   ]
  },
  {
   "cell_type": "code",
   "execution_count": 11,
   "metadata": {},
   "outputs": [
    {
     "name": "stdout",
     "output_type": "stream",
     "text": [
      "[3 4 5]\n",
      "[4 5 6]\n",
      "[ 7  9 11]\n",
      "62\n"
     ]
    }
   ],
   "source": [
    "a = np.array([1,2,3,4,5])\n",
    "b = np.array([4,5,6,7,8,9])\n",
    "new_a = a[2:]\n",
    "new_b = b[:3]\n",
    "print (new_a)\n",
    "print (new_b)\n",
    "print(new_a + new_b)\n",
    "\n",
    "#\n",
    "\n",
    "\n",
    "a = np.array([1,2,3,4,5])\n",
    "b = np.array([4,5,6,7,8,9])\n",
    "new_a = a[2:]\n",
    "new_b = b[:3]\n",
    "sum = np.dot(new_a, new_b)\n",
    "print(sum)\n",
    "\n"
   ]
  }
 ],
 "metadata": {
  "interpreter": {
   "hash": "984c2687e66d80ec020a8bbd2608e57c6d139e11070775fb6b5fb54e44c3a739"
  },
  "kernelspec": {
   "display_name": "Python 3.9.7 64-bit",
   "name": "python3"
  },
  "language_info": {
   "codemirror_mode": {
    "name": "ipython",
    "version": 3
   },
   "file_extension": ".py",
   "mimetype": "text/x-python",
   "name": "python",
   "nbconvert_exporter": "python",
   "pygments_lexer": "ipython3",
   "version": "3.9.7"
  },
  "orig_nbformat": 4
 },
 "nbformat": 4,
 "nbformat_minor": 2
}
