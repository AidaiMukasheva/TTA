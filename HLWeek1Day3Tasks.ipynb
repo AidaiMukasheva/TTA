{
 "cells": [
  {
   "cell_type": "markdown",
   "source": [
    "Home Learning Day 3 Part1 "
   ],
   "metadata": {}
  },
  {
   "cell_type": "code",
   "execution_count": 1,
   "source": [
    "#Task1\r\n",
    "\r\n",
    "number = int(input(\"Enter a number.\"))\r\n",
    "if number > 10:\r\n",
    "    print (\"Number is greater than 10\")\r\n",
    "else:\r\n",
    "    print (\"Number is smaller than 10.\")"
   ],
   "outputs": [
    {
     "output_type": "stream",
     "name": "stdout",
     "text": [
      "Number is smaller than 10.\n"
     ]
    }
   ],
   "metadata": {}
  },
  {
   "cell_type": "code",
   "execution_count": 2,
   "source": [
    "#Task2\r\n",
    "\r\n",
    "number = int(input(\"Enter a number.\"))\r\n",
    "while number < 10:\r\n",
    "    if number<10:\r\n",
    "        print(number)\r\n",
    "        number = number +1\r\n",
    "else:\r\n",
    "    print (\"The number is greater than 10\")\r\n",
    "    "
   ],
   "outputs": [
    {
     "output_type": "stream",
     "name": "stdout",
     "text": [
      "5\n",
      "6\n",
      "7\n",
      "8\n",
      "9\n",
      "The number is greater than 10\n"
     ]
    }
   ],
   "metadata": {}
  },
  {
   "cell_type": "code",
   "execution_count": 3,
   "source": [
    "#Task3 (motorbike task extension)\r\n",
    "\r\n",
    "def update_cost():\r\n",
    "    cost = 2000\r\n",
    "    while cost >= 1000:\r\n",
    "        print (cost)\r\n",
    "        cost -= 2000 * 0.1\r\n",
    "      "
   ],
   "outputs": [],
   "metadata": {}
  },
  {
   "cell_type": "code",
   "execution_count": 5,
   "source": [
    "update_cost()"
   ],
   "outputs": [
    {
     "output_type": "stream",
     "name": "stdout",
     "text": [
      "2000\n",
      "1800.0\n",
      "1600.0\n",
      "1400.0\n",
      "1200.0\n",
      "1000.0\n"
     ]
    }
   ],
   "metadata": {}
  },
  {
   "cell_type": "code",
   "execution_count": 7,
   "source": [
    "#Task4 \r\n",
    "\r\n",
    "def procedure_2():\r\n",
    "    number1 = input(\"Enter the first number: \")\r\n",
    "    number2 = input(\"Enter the second number: \")\r\n",
    "    operator = input(\"Enter a to add, b to substract, c to multiply, d to divide, e to square\")\r\n",
    "    result_add = float(number1) + float(number2)\r\n",
    "    result_substract = float(number1) - float(number2)\r\n",
    "    result_multiply = float(number1) * float(number2)\r\n",
    "    result_divide = float(number1) / float(number2)\r\n",
    "    result_square = float(number1) ** float(number2)\r\n",
    "    if operator == \"a\":\r\n",
    "        print (result_add)\r\n",
    "    elif operator == \"b\":\r\n",
    "        print(result_substract)\r\n",
    "    elif operator ==\"c\":\r\n",
    "        print (result_multiply)\r\n",
    "    elif operator == \"d\":\r\n",
    "        print (result_divide)\r\n",
    "    else:\r\n",
    "        print (result_square)"
   ],
   "outputs": [],
   "metadata": {}
  },
  {
   "cell_type": "code",
   "execution_count": 8,
   "source": [
    "procedure_2()"
   ],
   "outputs": [
    {
     "output_type": "stream",
     "name": "stdout",
     "text": [
      "8.0\n"
     ]
    }
   ],
   "metadata": {}
  },
  {
   "cell_type": "markdown",
   "source": [
    "Home Learning Day 3 Part2"
   ],
   "metadata": {}
  },
  {
   "cell_type": "code",
   "execution_count": 9,
   "source": [
    "#Task1 - write, read, append\r\n",
    "\r\n",
    "#Write\r\n",
    "\r\n",
    "my_file = open (\"Numbers.txt\", \"w\")\r\n",
    "my_file.write(\"3 \\n45 \\n83 \\n21\")\r\n",
    "my_file.close()\r\n",
    "\r\n"
   ],
   "outputs": [],
   "metadata": {}
  },
  {
   "cell_type": "code",
   "execution_count": 10,
   "source": [
    "#Read\r\n",
    "with open (\"Numbers.txt\", \"r\") as my_file:\r\n",
    "    print(my_file.read())\r\n",
    "my_file.close()\r\n",
    "\r\n",
    "#Read\r\n",
    "with open (\"Numbers.txt\", \"r\") as my_file:\r\n",
    "    print(my_file.readline())\r\n",
    "    print(my_file.readline())\r\n",
    "    print(my_file.readline())\r\n",
    "my_file.close()\r\n",
    "\r\n",
    "with open (\"Numbers.txt\", \"r\") as my_file:\r\n",
    "    print(my_file.read(8))\r\n",
    "my_file.close()\r\n",
    "\r\n"
   ],
   "outputs": [
    {
     "output_type": "stream",
     "name": "stdout",
     "text": [
      "3 \n",
      "45 \n",
      "83 \n",
      "21\n",
      "3 \n",
      "\n",
      "45 \n",
      "\n",
      "83 \n",
      "\n",
      "3 \n",
      "45 \n",
      "8\n"
     ]
    }
   ],
   "metadata": {}
  },
  {
   "cell_type": "code",
   "execution_count": 11,
   "source": [
    "#Append\r\n",
    "\r\n",
    "my_file = open(\"Numbers.txt\", \"a\")\r\n",
    "my_file.write(\"\\nWhere has it gone?\")\r\n",
    "my_file.write(\"\\nWhere has it gone???\")\r\n",
    "my_file.close()\r\n",
    "\r\n"
   ],
   "outputs": [],
   "metadata": {}
  },
  {
   "cell_type": "code",
   "execution_count": 13,
   "source": [
    "my_file = open(\"Numbers.txt\", \"w\")\r\n",
    "my_file.write(\"Hello this is a new text and it replaced previous text.\")\r\n",
    "my_file.close()"
   ],
   "outputs": [],
   "metadata": {}
  },
  {
   "cell_type": "code",
   "execution_count": 25,
   "source": [
    "#Task 2\r\n",
    "percentage_mark = int(input(\"What is your mark in %?\"))\r\n",
    "exam_mark = int(percentage_mark*5/100)\r\n",
    "target_grade = int(input (\"What is your target grade?\"))\r\n",
    "def mark_grade():\r\n",
    "    if target_grade > exam_mark:\r\n",
    "        print (\"Looks like you didn't pass.\") \r\n",
    "    elif target_grade == exam_mark:\r\n",
    "        print(\"Well done!\")\r\n",
    "    else:\r\n",
    "        print (\"Wow! You are a very smart kid!\")\r\n",
    "\r\n",
    "\r\n",
    "mark_grade()\r\n",
    "\r\n",
    "#result = mark_grade()\r\n",
    "#print (result, \"Your exam mark is \" + str(exam_mark) + \"!\")\r\n",
    "\r\n"
   ],
   "outputs": [
    {
     "output_type": "stream",
     "name": "stdout",
     "text": [
      "Well done!\n"
     ]
    }
   ],
   "metadata": {}
  },
  {
   "cell_type": "code",
   "execution_count": 26,
   "source": [
    "mark_grade()"
   ],
   "outputs": [
    {
     "output_type": "stream",
     "name": "stdout",
     "text": [
      "Well done!\n"
     ]
    }
   ],
   "metadata": {}
  }
 ],
 "metadata": {
  "orig_nbformat": 4,
  "language_info": {
   "name": "python",
   "version": "3.9.7",
   "mimetype": "text/x-python",
   "codemirror_mode": {
    "name": "ipython",
    "version": 3
   },
   "pygments_lexer": "ipython3",
   "nbconvert_exporter": "python",
   "file_extension": ".py"
  },
  "kernelspec": {
   "name": "python3",
   "display_name": "Python 3.9.7 64-bit"
  },
  "interpreter": {
   "hash": "984c2687e66d80ec020a8bbd2608e57c6d139e11070775fb6b5fb54e44c3a739"
  }
 },
 "nbformat": 4,
 "nbformat_minor": 2
}