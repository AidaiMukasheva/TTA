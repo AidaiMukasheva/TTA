{
 "cells": [
  {
   "cell_type": "markdown",
   "source": [
    "Home Learning Day 1"
   ],
   "metadata": {}
  },
  {
   "cell_type": "code",
   "execution_count": 1,
   "source": [
    "print (\"Hello World! My name is Aidai!\")"
   ],
   "outputs": [
    {
     "output_type": "stream",
     "name": "stdout",
     "text": [
      "Hello World! My name is Aidai!\n"
     ]
    }
   ],
   "metadata": {}
  },
  {
   "cell_type": "markdown",
   "source": [
    "Home Learning Day 2"
   ],
   "metadata": {}
  },
  {
   "cell_type": "code",
   "execution_count": 3,
   "source": [
    "#Task1\r\n",
    "\r\n",
    "import random\r\n",
    "random_number = random.randint(1,10)\r\n",
    "guess_number = int(input (\"Guess a number between 1 and 10.\"))\r\n",
    "while guess_number != random_number:\r\n",
    "    if guess_number != random_number:\r\n",
    "        print (\"Try again\")\r\n",
    "        guess_number = int(input (\"Guess the number again.\"))\r\n",
    "else:\r\n",
    "        print (\"You won\")\r\n",
    "\r\n",
    "\r\n",
    "\r\n",
    "\r\n",
    "\r\n",
    "    "
   ],
   "outputs": [
    {
     "output_type": "stream",
     "name": "stdout",
     "text": [
      "Try again\n",
      "Try again\n",
      "Try again\n",
      "Try again\n",
      "You won\n"
     ]
    }
   ],
   "metadata": {}
  },
  {
   "cell_type": "code",
   "execution_count": 4,
   "source": [
    "#Task2\r\n",
    "\r\n",
    "userInput = float(input(\"What is your favorite number between 1 to 100?\"))\r\n",
    "if (userInput <=25):\r\n",
    "    print (\"Did you hear about the first restaurant to open on the moon? It had great food but no atmosphere.\")\r\n",
    "elif (userInput >=25) and (userInput <= 50):\r\n",
    "    print (\"What did one ocean say to the other ocean? Nothing, it just waved.\")\r\n",
    "elif (userInput >=50) and (userInput <= 75):\r\n",
    "    print (\"What does a house wear? Address!\")\r\n",
    "elif (userInput >=75) and (userInput <= 100):\r\n",
    "    print (\"I went to buy some camouflage trousers the other day, but I couldn't find any.\")    \r\n",
    "else:\r\n",
    "    print (\"Your number is greater than 100.\")"
   ],
   "outputs": [
    {
     "output_type": "stream",
     "name": "stdout",
     "text": [
      "I went to buy some camouflage trousers the other day, but I couldn't find any.\n"
     ]
    }
   ],
   "metadata": {}
  },
  {
   "cell_type": "code",
   "execution_count": 5,
   "source": [
    "#Task3\r\n",
    "\r\n",
    "starter = input(\"What is your favorite starter?\")\r\n",
    "main_course = input (\"What is your favorite main course?\")\r\n",
    "dessert = input(\"What is your favorite dessert?\")\r\n",
    "drink = input (\"What is your favorite drink?\")\r\n",
    "print(\"Your favorite meal is \" + starter + \", \" + main_course + \", \" + dessert + \" with a glass of \" + drink)\r\n"
   ],
   "outputs": [
    {
     "output_type": "stream",
     "name": "stdout",
     "text": [
      "Your favorite meal is soup, steak, cake with a glass of coke\n"
     ]
    }
   ],
   "metadata": {}
  },
  {
   "cell_type": "code",
   "execution_count": 6,
   "source": [
    "#Task4\r\n",
    "\r\n",
    "cost = 2000\r\n",
    "while cost >=1000:\r\n",
    "    print (cost)\r\n",
    "    cost -= 2000 * 0.1\r\n",
    "  \r\n"
   ],
   "outputs": [
    {
     "output_type": "stream",
     "name": "stdout",
     "text": [
      "2000\n",
      "1800.0\n",
      "1600.0\n",
      "1400.0\n",
      "1200.0\n",
      "1000.0\n"
     ]
    }
   ],
   "metadata": {}
  },
  {
   "cell_type": "code",
   "execution_count": 7,
   "source": [
    "#Task5\r\n",
    "\r\n",
    "number1 = input(\"Enter the first number: \")\r\n",
    "number2 = input(\"Enter the second number: \")\r\n",
    "operator = input(\"Enter a to add, b to substract, c to multiply, d to divide, e to square\")\r\n",
    "result_add = float(number1) + float(number2)\r\n",
    "result_substract = float(number1) - float(number2)\r\n",
    "result_multiply = float(number1) * float(number2)\r\n",
    "result_divide = float(number1) / float(number2)\r\n",
    "result_square = float(number1) ** float(number2)\r\n",
    "if operator == \"a\":\r\n",
    "    print (result_add)\r\n",
    "elif operator == \"b\":\r\n",
    "    print(result_substract)\r\n",
    "elif operator ==\"c\":\r\n",
    "    print (result_multiply)\r\n",
    "elif operator == \"d\":\r\n",
    "    print (result_divide)\r\n",
    "else:\r\n",
    "    print (result_square)"
   ],
   "outputs": [
    {
     "output_type": "stream",
     "name": "stdout",
     "text": [
      "42.0\n"
     ]
    }
   ],
   "metadata": {}
  }
 ],
 "metadata": {
  "orig_nbformat": 4,
  "language_info": {
   "name": "python",
   "version": "3.9.7",
   "mimetype": "text/x-python",
   "codemirror_mode": {
    "name": "ipython",
    "version": 3
   },
   "pygments_lexer": "ipython3",
   "nbconvert_exporter": "python",
   "file_extension": ".py"
  },
  "kernelspec": {
   "name": "python3",
   "display_name": "Python 3.9.7 64-bit"
  },
  "interpreter": {
   "hash": "984c2687e66d80ec020a8bbd2608e57c6d139e11070775fb6b5fb54e44c3a739"
  }
 },
 "nbformat": 4,
 "nbformat_minor": 2
}